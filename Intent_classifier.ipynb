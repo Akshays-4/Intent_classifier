{
  "cells": [
    {
      "cell_type": "code",
      "execution_count": null,
      "metadata": {
        "colab": {
          "base_uri": "https://localhost:8080/"
        },
        "id": "3sQpEqk_gN6R",
        "outputId": "7e7dbb3b-740f-4792-9c77-aad83a6f1307"
      },
      "outputs": [
        {
          "name": "stdout",
          "output_type": "stream",
          "text": [
            "\u001b[2K     \u001b[90m━━━━━━━━━━━━━━━━━━━━━━━━━━━━━━━━━━━━━━━━\u001b[0m \u001b[32m7.7/7.7 MB\u001b[0m \u001b[31m58.4 MB/s\u001b[0m eta \u001b[36m0:00:00\u001b[0m\n",
            "\u001b[2K     \u001b[90m━━━━━━━━━━━━━━━━━━━━━━━━━━━━━━━━━━━━━━━━\u001b[0m \u001b[32m670.2/670.2 MB\u001b[0m \u001b[31m2.0 MB/s\u001b[0m eta \u001b[36m0:00:00\u001b[0m\n",
            "\u001b[2K     \u001b[90m━━━━━━━━━━━━━━━━━━━━━━━━━━━━━━━━━━━━━━━━\u001b[0m \u001b[32m258.1/258.1 kB\u001b[0m \u001b[31m24.6 MB/s\u001b[0m eta \u001b[36m0:00:00\u001b[0m\n",
            "\u001b[2K     \u001b[90m━━━━━━━━━━━━━━━━━━━━━━━━━━━━━━━━━━━━━━━━\u001b[0m \u001b[32m302.0/302.0 kB\u001b[0m \u001b[31m29.6 MB/s\u001b[0m eta \u001b[36m0:00:00\u001b[0m\n",
            "\u001b[2K     \u001b[90m━━━━━━━━━━━━━━━━━━━━━━━━━━━━━━━━━━━━━━━━\u001b[0m \u001b[32m3.8/3.8 MB\u001b[0m \u001b[31m105.4 MB/s\u001b[0m eta \u001b[36m0:00:00\u001b[0m\n",
            "\u001b[2K     \u001b[90m━━━━━━━━━━━━━━━━━━━━━━━━━━━━━━━━━━━━━━━━\u001b[0m \u001b[32m1.3/1.3 MB\u001b[0m \u001b[31m90.4 MB/s\u001b[0m eta \u001b[36m0:00:00\u001b[0m\n",
            "\u001b[2K     \u001b[90m━━━━━━━━━━━━━━━━━━━━━━━━━━━━━━━━━━━━━━━━\u001b[0m \u001b[32m23.7/23.7 MB\u001b[0m \u001b[31m75.0 MB/s\u001b[0m eta \u001b[36m0:00:00\u001b[0m\n",
            "\u001b[2K     \u001b[90m━━━━━━━━━━━━━━━━━━━━━━━━━━━━━━━━━━━━━━━━\u001b[0m \u001b[32m823.6/823.6 kB\u001b[0m \u001b[31m71.7 MB/s\u001b[0m eta \u001b[36m0:00:00\u001b[0m\n",
            "\u001b[2K     \u001b[90m━━━━━━━━━━━━━━━━━━━━━━━━━━━━━━━━━━━━━━━━\u001b[0m \u001b[32m14.1/14.1 MB\u001b[0m \u001b[31m70.0 MB/s\u001b[0m eta \u001b[36m0:00:00\u001b[0m\n",
            "\u001b[2K     \u001b[90m━━━━━━━━━━━━━━━━━━━━━━━━━━━━━━━━━━━━━━━━\u001b[0m \u001b[32m731.7/731.7 MB\u001b[0m \u001b[31m2.5 MB/s\u001b[0m eta \u001b[36m0:00:00\u001b[0m\n",
            "\u001b[2K     \u001b[90m━━━━━━━━━━━━━━━━━━━━━━━━━━━━━━━━━━━━━━━━\u001b[0m \u001b[32m410.6/410.6 MB\u001b[0m \u001b[31m2.7 MB/s\u001b[0m eta \u001b[36m0:00:00\u001b[0m\n",
            "\u001b[2K     \u001b[90m━━━━━━━━━━━━━━━━━━━━━━━━━━━━━━━━━━━━━━━━\u001b[0m \u001b[32m121.6/121.6 MB\u001b[0m \u001b[31m8.2 MB/s\u001b[0m eta \u001b[36m0:00:00\u001b[0m\n",
            "\u001b[2K     \u001b[90m━━━━━━━━━━━━━━━━━━━━━━━━━━━━━━━━━━━━━━━━\u001b[0m \u001b[32m56.5/56.5 MB\u001b[0m \u001b[31m12.5 MB/s\u001b[0m eta \u001b[36m0:00:00\u001b[0m\n",
            "\u001b[2K     \u001b[90m━━━━━━━━━━━━━━━━━━━━━━━━━━━━━━━━━━━━━━━━\u001b[0m \u001b[32m124.2/124.2 MB\u001b[0m \u001b[31m8.1 MB/s\u001b[0m eta \u001b[36m0:00:00\u001b[0m\n",
            "\u001b[2K     \u001b[90m━━━━━━━━━━━━━━━━━━━━━━━━━━━━━━━━━━━━━━━━\u001b[0m \u001b[32m196.0/196.0 MB\u001b[0m \u001b[31m6.6 MB/s\u001b[0m eta \u001b[36m0:00:00\u001b[0m\n",
            "\u001b[2K     \u001b[90m━━━━━━━━━━━━━━━━━━━━━━━━━━━━━━━━━━━━━━━━\u001b[0m \u001b[32m209.8/209.8 MB\u001b[0m \u001b[31m5.6 MB/s\u001b[0m eta \u001b[36m0:00:00\u001b[0m\n",
            "\u001b[2K     \u001b[90m━━━━━━━━━━━━━━━━━━━━━━━━━━━━━━━━━━━━━━━━\u001b[0m \u001b[32m99.1/99.1 kB\u001b[0m \u001b[31m15.2 MB/s\u001b[0m eta \u001b[36m0:00:00\u001b[0m\n",
            "\u001b[2K     \u001b[90m━━━━━━━━━━━━━━━━━━━━━━━━━━━━━━━━━━━━━━━━\u001b[0m \u001b[32m89.2/89.2 MB\u001b[0m \u001b[31m9.6 MB/s\u001b[0m eta \u001b[36m0:00:00\u001b[0m\n",
            "\u001b[2K     \u001b[90m━━━━━━━━━━━━━━━━━━━━━━━━━━━━━━━━━━━━━━━━\u001b[0m \u001b[32m20.2/20.2 MB\u001b[0m \u001b[31m90.2 MB/s\u001b[0m eta \u001b[36m0:00:00\u001b[0m\n",
            "\u001b[2K     \u001b[90m━━━━━━━━━━━━━━━━━━━━━━━━━━━━━━━━━━━━━━━━\u001b[0m \u001b[32m295.0/295.0 kB\u001b[0m \u001b[31m36.4 MB/s\u001b[0m eta \u001b[36m0:00:00\u001b[0m\n",
            "\u001b[?25h\u001b[31mERROR: pip's dependency resolver does not currently take into account all the packages that are installed. This behaviour is the source of the following dependency conflicts.\n",
            "fastai 2.7.12 requires torch<2.1,>=1.7, but you have torch 2.1.0 which is incompatible.\n",
            "torchaudio 2.0.2+cu118 requires torch==2.0.1, but you have torch 2.1.0 which is incompatible.\n",
            "torchdata 0.6.1 requires torch==2.0.1, but you have torch 2.1.0 which is incompatible.\n",
            "torchtext 0.15.2 requires torch==2.0.1, but you have torch 2.1.0 which is incompatible.\n",
            "torchvision 0.15.2+cu118 requires torch==2.0.1, but you have torch 2.1.0 which is incompatible.\u001b[0m\u001b[31m\n",
            "\u001b[0m"
          ]
        }
      ],
      "source": [
        "!pip install transformers torch accelerate -Uqq"
      ]
    },
    {
      "cell_type": "code",
      "execution_count": null,
      "metadata": {
        "id": "OC0GkspcgaSv"
      },
      "outputs": [],
      "source": [
        "import json\n",
        "import random\n",
        "import numpy as np\n",
        "from sklearn.model_selection import train_test_split\n",
        "from sklearn.metrics import classification_report\n",
        "import torch\n",
        "from transformers import BertTokenizer, BertForSequenceClassification, TrainingArguments, Trainer"
      ]
    },
    {
      "cell_type": "code",
      "execution_count": null,
      "metadata": {
        "id": "s1caq6OqUiPG"
      },
      "outputs": [],
      "source": [
        "import pandas as pd\n",
        "\n",
        "df = pd.read_csv(\"aug_data.txt\", sep=\"|\")"
      ]
    },
    {
      "cell_type": "code",
      "execution_count": null,
      "metadata": {
        "id": "GXfAWui5V5H0"
      },
      "outputs": [],
      "source": [
        "for i in range(len(df['intent'])):\n",
        "  df['intent'][i]=df['intent'][i].strip()"
      ]
    },
    {
      "cell_type": "code",
      "execution_count": null,
      "metadata": {
        "id": "lNGbonX3giFg"
      },
      "outputs": [],
      "source": [
        "# Load the data from the JSON files\n",
        "import json\n",
        "with open('surprise.data', 'r') as data_file:\n",
        "    data = [json.loads(line) for line in data_file]\n",
        "\n",
        "with open('surprise.solution', 'r') as solution_file:\n",
        "    solutions = [json.loads(line) for line in solution_file]"
      ]
    },
    {
      "cell_type": "code",
      "execution_count": null,
      "metadata": {
        "colab": {
          "base_uri": "https://localhost:8080/"
        },
        "id": "3aPEyBAcgpLD",
        "outputId": "b3bb5744-d357-4e02-98a6-ffee8c0b9502"
      },
      "outputs": [
        {
          "name": "stdout",
          "output_type": "stream",
          "text": [
            "Number of classes\n",
            "150\n"
          ]
        }
      ],
      "source": [
        "# Create a dictionary to map indoml_id to intents\n",
        "from sklearn.model_selection import train_test_split\n",
        "\n",
        "intent_map = {item['indoml_id']: item['intent'] for item in solutions}\n",
        "\n",
        "# Split data into train and test sets (2:1) stratified by intent\n",
        "indoml_ids = [item['indoml_id'] for item in data]\n",
        "intents = [intent_map[indoml_id] for indoml_id in indoml_ids]\n",
        "\n",
        "utt = [item['utt'] for item in data]\n",
        "\n",
        "num_classes = len(set(intents))\n",
        "print(\"Number of classes\")\n",
        "print(num_classes)\n",
        "\n",
        "train_data, test_data, train_labels, test_labels = train_test_split(\n",
        "    utt, intents, test_size=0.1, random_state=42, stratify=intents\n",
        ")"
      ]
    },
    {
      "cell_type": "code",
      "execution_count": null,
      "metadata": {
        "colab": {
          "base_uri": "https://localhost:8080/",
          "height": 457
        },
        "id": "bi-g-I76P8mL",
        "outputId": "c04cdd8c-72d1-4372-e973-662d654075d7"
      },
      "outputs": [
        {
          "data": {
            "text/html": [
              "\n",
              "  <div id=\"df-2bfbe1f9-9bf7-4681-873e-d05dc766f9c5\" class=\"colab-df-container\">\n",
              "    <div>\n",
              "<style scoped>\n",
              "    .dataframe tbody tr th:only-of-type {\n",
              "        vertical-align: middle;\n",
              "    }\n",
              "\n",
              "    .dataframe tbody tr th {\n",
              "        vertical-align: top;\n",
              "    }\n",
              "\n",
              "    .dataframe thead th {\n",
              "        text-align: right;\n",
              "    }\n",
              "</style>\n",
              "<table border=\"1\" class=\"dataframe\">\n",
              "  <thead>\n",
              "    <tr style=\"text-align: right;\">\n",
              "      <th></th>\n",
              "      <th>0</th>\n",
              "      <th>labels</th>\n",
              "    </tr>\n",
              "  </thead>\n",
              "  <tbody>\n",
              "    <tr>\n",
              "      <th>129</th>\n",
              "      <td>Will there be any sunny days this week?</td>\n",
              "      <td>weather</td>\n",
              "    </tr>\n",
              "    <tr>\n",
              "      <th>184</th>\n",
              "      <td>Is there any chance of thunderstorms today?</td>\n",
              "      <td>weather</td>\n",
              "    </tr>\n",
              "    <tr>\n",
              "      <th>285</th>\n",
              "      <td>What is the probability of rain tomorrow?</td>\n",
              "      <td>weather</td>\n",
              "    </tr>\n",
              "    <tr>\n",
              "      <th>567</th>\n",
              "      <td>What is the weather like in Tokyo right now?</td>\n",
              "      <td>weather</td>\n",
              "    </tr>\n",
              "    <tr>\n",
              "      <th>735</th>\n",
              "      <td>Will it be sunny or cloudy tomorrow morning?</td>\n",
              "      <td>weather</td>\n",
              "    </tr>\n",
              "    <tr>\n",
              "      <th>791</th>\n",
              "      <td>Is it going to snow this winter?</td>\n",
              "      <td>weather</td>\n",
              "    </tr>\n",
              "    <tr>\n",
              "      <th>812</th>\n",
              "      <td>What is the weather forecast for this weekend?</td>\n",
              "      <td>weather</td>\n",
              "    </tr>\n",
              "    <tr>\n",
              "      <th>1144</th>\n",
              "      <td>Will there be any thunderstorms tonight?</td>\n",
              "      <td>weather</td>\n",
              "    </tr>\n",
              "    <tr>\n",
              "      <th>1364</th>\n",
              "      <td>What is the current temperature outside?</td>\n",
              "      <td>weather</td>\n",
              "    </tr>\n",
              "    <tr>\n",
              "      <th>1555</th>\n",
              "      <td>Will it snow tonight?</td>\n",
              "      <td>weather</td>\n",
              "    </tr>\n",
              "    <tr>\n",
              "      <th>1660</th>\n",
              "      <td>Will it rain tonight?</td>\n",
              "      <td>weather</td>\n",
              "    </tr>\n",
              "    <tr>\n",
              "      <th>1795</th>\n",
              "      <td>How will the weather affect our outdoor plans?</td>\n",
              "      <td>weather</td>\n",
              "    </tr>\n",
              "    <tr>\n",
              "      <th>1817</th>\n",
              "      <td>What is the average high temperature in Miami ...</td>\n",
              "      <td>weather</td>\n",
              "    </tr>\n",
              "  </tbody>\n",
              "</table>\n",
              "</div>\n",
              "    <div class=\"colab-df-buttons\">\n",
              "\n",
              "  <div class=\"colab-df-container\">\n",
              "    <button class=\"colab-df-convert\" onclick=\"convertToInteractive('df-2bfbe1f9-9bf7-4681-873e-d05dc766f9c5')\"\n",
              "            title=\"Convert this dataframe to an interactive table.\"\n",
              "            style=\"display:none;\">\n",
              "\n",
              "  <svg xmlns=\"http://www.w3.org/2000/svg\" height=\"24px\" viewBox=\"0 -960 960 960\">\n",
              "    <path d=\"M120-120v-720h720v720H120Zm60-500h600v-160H180v160Zm220 220h160v-160H400v160Zm0 220h160v-160H400v160ZM180-400h160v-160H180v160Zm440 0h160v-160H620v160ZM180-180h160v-160H180v160Zm440 0h160v-160H620v160Z\"/>\n",
              "  </svg>\n",
              "    </button>\n",
              "\n",
              "  <style>\n",
              "    .colab-df-container {\n",
              "      display:flex;\n",
              "      gap: 12px;\n",
              "    }\n",
              "\n",
              "    .colab-df-convert {\n",
              "      background-color: #E8F0FE;\n",
              "      border: none;\n",
              "      border-radius: 50%;\n",
              "      cursor: pointer;\n",
              "      display: none;\n",
              "      fill: #1967D2;\n",
              "      height: 32px;\n",
              "      padding: 0 0 0 0;\n",
              "      width: 32px;\n",
              "    }\n",
              "\n",
              "    .colab-df-convert:hover {\n",
              "      background-color: #E2EBFA;\n",
              "      box-shadow: 0px 1px 2px rgba(60, 64, 67, 0.3), 0px 1px 3px 1px rgba(60, 64, 67, 0.15);\n",
              "      fill: #174EA6;\n",
              "    }\n",
              "\n",
              "    .colab-df-buttons div {\n",
              "      margin-bottom: 4px;\n",
              "    }\n",
              "\n",
              "    [theme=dark] .colab-df-convert {\n",
              "      background-color: #3B4455;\n",
              "      fill: #D2E3FC;\n",
              "    }\n",
              "\n",
              "    [theme=dark] .colab-df-convert:hover {\n",
              "      background-color: #434B5C;\n",
              "      box-shadow: 0px 1px 3px 1px rgba(0, 0, 0, 0.15);\n",
              "      filter: drop-shadow(0px 1px 2px rgba(0, 0, 0, 0.3));\n",
              "      fill: #FFFFFF;\n",
              "    }\n",
              "  </style>\n",
              "\n",
              "    <script>\n",
              "      const buttonEl =\n",
              "        document.querySelector('#df-2bfbe1f9-9bf7-4681-873e-d05dc766f9c5 button.colab-df-convert');\n",
              "      buttonEl.style.display =\n",
              "        google.colab.kernel.accessAllowed ? 'block' : 'none';\n",
              "\n",
              "      async function convertToInteractive(key) {\n",
              "        const element = document.querySelector('#df-2bfbe1f9-9bf7-4681-873e-d05dc766f9c5');\n",
              "        const dataTable =\n",
              "          await google.colab.kernel.invokeFunction('convertToInteractive',\n",
              "                                                    [key], {});\n",
              "        if (!dataTable) return;\n",
              "\n",
              "        const docLinkHtml = 'Like what you see? Visit the ' +\n",
              "          '<a target=\"_blank\" href=https://colab.research.google.com/notebooks/data_table.ipynb>data table notebook</a>'\n",
              "          + ' to learn more about interactive tables.';\n",
              "        element.innerHTML = '';\n",
              "        dataTable['output_type'] = 'display_data';\n",
              "        await google.colab.output.renderOutput(dataTable, element);\n",
              "        const docLink = document.createElement('div');\n",
              "        docLink.innerHTML = docLinkHtml;\n",
              "        element.appendChild(docLink);\n",
              "      }\n",
              "    </script>\n",
              "  </div>\n",
              "\n",
              "\n",
              "<div id=\"df-530fc541-71fc-49b1-9ee5-6ac9459cd6c3\">\n",
              "  <button class=\"colab-df-quickchart\" onclick=\"quickchart('df-530fc541-71fc-49b1-9ee5-6ac9459cd6c3')\"\n",
              "            title=\"Suggest charts.\"\n",
              "            style=\"display:none;\">\n",
              "\n",
              "<svg xmlns=\"http://www.w3.org/2000/svg\" height=\"24px\"viewBox=\"0 0 24 24\"\n",
              "     width=\"24px\">\n",
              "    <g>\n",
              "        <path d=\"M19 3H5c-1.1 0-2 .9-2 2v14c0 1.1.9 2 2 2h14c1.1 0 2-.9 2-2V5c0-1.1-.9-2-2-2zM9 17H7v-7h2v7zm4 0h-2V7h2v10zm4 0h-2v-4h2v4z\"/>\n",
              "    </g>\n",
              "</svg>\n",
              "  </button>\n",
              "\n",
              "<style>\n",
              "  .colab-df-quickchart {\n",
              "      --bg-color: #E8F0FE;\n",
              "      --fill-color: #1967D2;\n",
              "      --hover-bg-color: #E2EBFA;\n",
              "      --hover-fill-color: #174EA6;\n",
              "      --disabled-fill-color: #AAA;\n",
              "      --disabled-bg-color: #DDD;\n",
              "  }\n",
              "\n",
              "  [theme=dark] .colab-df-quickchart {\n",
              "      --bg-color: #3B4455;\n",
              "      --fill-color: #D2E3FC;\n",
              "      --hover-bg-color: #434B5C;\n",
              "      --hover-fill-color: #FFFFFF;\n",
              "      --disabled-bg-color: #3B4455;\n",
              "      --disabled-fill-color: #666;\n",
              "  }\n",
              "\n",
              "  .colab-df-quickchart {\n",
              "    background-color: var(--bg-color);\n",
              "    border: none;\n",
              "    border-radius: 50%;\n",
              "    cursor: pointer;\n",
              "    display: none;\n",
              "    fill: var(--fill-color);\n",
              "    height: 32px;\n",
              "    padding: 0;\n",
              "    width: 32px;\n",
              "  }\n",
              "\n",
              "  .colab-df-quickchart:hover {\n",
              "    background-color: var(--hover-bg-color);\n",
              "    box-shadow: 0 1px 2px rgba(60, 64, 67, 0.3), 0 1px 3px 1px rgba(60, 64, 67, 0.15);\n",
              "    fill: var(--button-hover-fill-color);\n",
              "  }\n",
              "\n",
              "  .colab-df-quickchart-complete:disabled,\n",
              "  .colab-df-quickchart-complete:disabled:hover {\n",
              "    background-color: var(--disabled-bg-color);\n",
              "    fill: var(--disabled-fill-color);\n",
              "    box-shadow: none;\n",
              "  }\n",
              "\n",
              "  .colab-df-spinner {\n",
              "    border: 2px solid var(--fill-color);\n",
              "    border-color: transparent;\n",
              "    border-bottom-color: var(--fill-color);\n",
              "    animation:\n",
              "      spin 1s steps(1) infinite;\n",
              "  }\n",
              "\n",
              "  @keyframes spin {\n",
              "    0% {\n",
              "      border-color: transparent;\n",
              "      border-bottom-color: var(--fill-color);\n",
              "      border-left-color: var(--fill-color);\n",
              "    }\n",
              "    20% {\n",
              "      border-color: transparent;\n",
              "      border-left-color: var(--fill-color);\n",
              "      border-top-color: var(--fill-color);\n",
              "    }\n",
              "    30% {\n",
              "      border-color: transparent;\n",
              "      border-left-color: var(--fill-color);\n",
              "      border-top-color: var(--fill-color);\n",
              "      border-right-color: var(--fill-color);\n",
              "    }\n",
              "    40% {\n",
              "      border-color: transparent;\n",
              "      border-right-color: var(--fill-color);\n",
              "      border-top-color: var(--fill-color);\n",
              "    }\n",
              "    60% {\n",
              "      border-color: transparent;\n",
              "      border-right-color: var(--fill-color);\n",
              "    }\n",
              "    80% {\n",
              "      border-color: transparent;\n",
              "      border-right-color: var(--fill-color);\n",
              "      border-bottom-color: var(--fill-color);\n",
              "    }\n",
              "    90% {\n",
              "      border-color: transparent;\n",
              "      border-bottom-color: var(--fill-color);\n",
              "    }\n",
              "  }\n",
              "</style>\n",
              "\n",
              "  <script>\n",
              "    async function quickchart(key) {\n",
              "      const quickchartButtonEl =\n",
              "        document.querySelector('#' + key + ' button');\n",
              "      quickchartButtonEl.disabled = true;  // To prevent multiple clicks.\n",
              "      quickchartButtonEl.classList.add('colab-df-spinner');\n",
              "      try {\n",
              "        const charts = await google.colab.kernel.invokeFunction(\n",
              "            'suggestCharts', [key], {});\n",
              "      } catch (error) {\n",
              "        console.error('Error during call to suggestCharts:', error);\n",
              "      }\n",
              "      quickchartButtonEl.classList.remove('colab-df-spinner');\n",
              "      quickchartButtonEl.classList.add('colab-df-quickchart-complete');\n",
              "    }\n",
              "    (() => {\n",
              "      let quickchartButtonEl =\n",
              "        document.querySelector('#df-530fc541-71fc-49b1-9ee5-6ac9459cd6c3 button');\n",
              "      quickchartButtonEl.style.display =\n",
              "        google.colab.kernel.accessAllowed ? 'block' : 'none';\n",
              "    })();\n",
              "  </script>\n",
              "</div>\n",
              "\n",
              "    </div>\n",
              "  </div>\n"
            ],
            "text/plain": [
              "                                                      0   labels\n",
              "129             Will there be any sunny days this week?  weather\n",
              "184         Is there any chance of thunderstorms today?  weather\n",
              "285           What is the probability of rain tomorrow?  weather\n",
              "567        What is the weather like in Tokyo right now?  weather\n",
              "735        Will it be sunny or cloudy tomorrow morning?  weather\n",
              "791                    Is it going to snow this winter?  weather\n",
              "812      What is the weather forecast for this weekend?  weather\n",
              "1144           Will there be any thunderstorms tonight?  weather\n",
              "1364           What is the current temperature outside?  weather\n",
              "1555                              Will it snow tonight?  weather\n",
              "1660                              Will it rain tonight?  weather\n",
              "1795     How will the weather affect our outdoor plans?  weather\n",
              "1817  What is the average high temperature in Miami ...  weather"
            ]
          },
          "execution_count": 9,
          "metadata": {},
          "output_type": "execute_result"
        }
      ],
      "source": [
        "# convert that to dataframe\n",
        "import pandas as pd\n",
        "train_data = pd.DataFrame(train_data)\n",
        "test_data = pd.DataFrame(test_data)\n",
        "# add labels as a column\n",
        "train_data['labels'] = train_labels\n",
        "test_data['labels'] = test_labels\n",
        "\n"
      ]
    },
    {
      "cell_type": "code",
      "execution_count": null,
      "metadata": {
        "colab": {
          "base_uri": "https://localhost:8080/"
        },
        "id": "MuL-vPEbRTxe",
        "outputId": "267e80f9-191f-4e08-a5ba-529af3deec01"
      },
      "outputs": [
        {
          "data": {
            "text/plain": [
              "['Kindly reinstate the settings to their original condition.',\n",
              " 'Can you reset everything to how it was when I first started using it?',\n",
              " \"I'd like to wipe the slate clean and begin anew.\",\n",
              " 'change back to default settings.',\n",
              " \"I'd like to reset everything to how it was when I first got you.\",\n",
              " \"I'd be grateful if you could reset my settings to their factory defaults right away.\",\n",
              " 'Could you please reset my settings to their default values so I can start anew?',\n",
              " \"Let's restore the default configurations for a fresh start.\",\n",
              " 'I yearn for the simplicity of my initial settings',\n",
              " 'start fresh with new settings',\n",
              " 'Please undo all recent changes and restore the original settings.',\n",
              " 'Would you kindly reset my settings to how they were when I first got this device?',\n",
              " \"Let's restore the device to its original state.\"]"
            ]
          },
          "execution_count": 134,
          "metadata": {},
          "output_type": "execute_result"
        }
      ],
      "source": [
        "list(train_data[train_data['labels'] == 'reset settings'][0][:])"
      ]
    },
    {
      "cell_type": "code",
      "execution_count": null,
      "metadata": {
        "colab": {
          "base_uri": "https://localhost:8080/"
        },
        "id": "Qs4DgzZNRsH0",
        "outputId": "05c11618-f481-4877-cd55-e950ac2b89c4"
      },
      "outputs": [
        {
          "data": {
            "text/plain": [
              "2"
            ]
          },
          "execution_count": 154,
          "metadata": {},
          "output_type": "execute_result"
        }
      ],
      "source": [
        "sum(['traffic' in i.lower() for i in list(train_data[train_data['labels'] != 'traffic'][0][:])])"
      ]
    },
    {
      "cell_type": "code",
      "execution_count": null,
      "metadata": {
        "colab": {
          "base_uri": "https://localhost:8080/"
        },
        "id": "KTr54kOQYMhG",
        "outputId": "442e0c4c-edc7-4664-b9fa-41fb216eaa87"
      },
      "outputs": [
        {
          "data": {
            "text/plain": [
              "['Will there be a lot of foot traffic outside the store during the holiday season?',\n",
              " 'She might be late, maybe she got stuck in traffic.']"
            ]
          },
          "execution_count": 155,
          "metadata": {},
          "output_type": "execute_result"
        }
      ],
      "source": [
        "[i for i in list(train_data[train_data['labels'] != 'traffic'][0][:]) if 'traffic' in i.lower() ]"
      ]
    },
    {
      "cell_type": "code",
      "execution_count": null,
      "metadata": {
        "colab": {
          "base_uri": "https://localhost:8080/"
        },
        "id": "wUm19OfcRsNu",
        "outputId": "48fe8430-c499-4d69-883a-aeeedbf41105"
      },
      "outputs": [
        {
          "data": {
            "text/plain": [
              "['I wish we could communicate quietly without being overheard.',\n",
              " 'please keep your voice down.',\n",
              " 'switch to low volume now.',\n",
              " 'Can you refrain from shouting?',\n",
              " 'I wish we were in a place where we could whisper our secrets without worrying about being overheard.',\n",
              " 'engage mute mode immediately.',\n",
              " 'whisper sweet nothings into my ear.',\n",
              " \"I'm trying to concentrate; could you please whisper?\",\n",
              " 'If you could kindly reduce the volume to a soft whisper, it would be greatly appreciated.',\n",
              " 'I think we should hush our voices.',\n",
              " 'i need you to whisper this message.',\n",
              " \"Could you please speak more softly? It's bothering me.\",\n",
              " 'I suggest we converse softly.',\n",
              " 'quiet down and speak softly.']"
            ]
          },
          "execution_count": 158,
          "metadata": {},
          "output_type": "execute_result"
        }
      ],
      "source": [
        "list(train_data[train_data['labels'] == 'whisper mode'][0][:])"
      ]
    },
    {
      "cell_type": "code",
      "execution_count": null,
      "metadata": {
        "colab": {
          "base_uri": "https://localhost:8080/"
        },
        "id": "kHRiR8-M3eIY",
        "outputId": "1fe55731-83b3-40cf-9815-dcff97ba334d"
      },
      "outputs": [
        {
          "data": {
            "text/plain": [
              "[True,\n",
              " True,\n",
              " True,\n",
              " True,\n",
              " True,\n",
              " False,\n",
              " False,\n",
              " True,\n",
              " True,\n",
              " True,\n",
              " True,\n",
              " False,\n",
              " True,\n",
              " True]"
            ]
          },
          "execution_count": 157,
          "metadata": {},
          "output_type": "execute_result"
        }
      ],
      "source": [
        "['traffic' in i.lower() for i in list(train_data[train_data['labels'] == 'traffic'][0][:])]"
      ]
    },
    {
      "cell_type": "code",
      "execution_count": null,
      "metadata": {
        "colab": {
          "base_uri": "https://localhost:8080/"
        },
        "id": "9TDu5L4aQubQ",
        "outputId": "fb4077c4-694f-46e1-924a-f28a5f2b840d"
      },
      "outputs": [
        {
          "data": {
            "text/plain": [
              "['Can someone please guide me on how to retrieve my W2 form?',\n",
              " 'Could you kindly inform me where to obtain my W2 form?',\n",
              " \"Where can I find the form that shows my employer's name and my annual wages for tax purposes?\",\n",
              " 'Do you know if my employer will send me my W-2 forms via email this year?',\n",
              " \"I'm trying to locate my W-2 form so I can submit it to the IRS before the deadline.\",\n",
              " \"I've been trying to track down my W2 form for weeks; could you please help me locate it?\",\n",
              " \"Is there any way to download my W2 form directly from my employer's website?\",\n",
              " 'How can I access my W-2 form if I misplaced it?',\n",
              " 'I need help finding my W2 form so I can complete my tax return.',\n",
              " 'How do I know which box to fill out on the W2 form for my state taxes?',\n",
              " 'I am diligently searching for my W2 form to submit my taxes; could you please share the location of mine?',\n",
              " 'Can you please tell me where I can find my lost W-2 form?',\n",
              " 'Where can I download a blank W-2 form for free?',\n",
              " 'I would like to know where I can obtain a blank W-2 form to fill out and submit to the relevant authorities']"
            ]
          },
          "execution_count": 19,
          "metadata": {},
          "output_type": "execute_result"
        }
      ],
      "source": [
        "list(train_data[train_data['labels'] == 'w2'][0][:])"
      ]
    },
    {
      "cell_type": "code",
      "execution_count": null,
      "metadata": {
        "id": "LX7u0NH6grN5"
      },
      "outputs": [],
      "source": [
        "# Define the BERT model and tokenizer\n",
        "# keep `ignore_mismatched_sizes=True` so that the classification layer is randomly initialized\n",
        "model_name = \"cartesinus/bert-base-uncased-amazon-massive-intent\"\n",
        "tokenizer = BertTokenizer.from_pretrained(model_name)\n",
        "model = BertForSequenceClassification.from_pretrained(\"trained_model\")\n",
        "#model = BertForSequenceClassification.from_pretrained(model_name, num_labels=num_classes, ignore_mismatched_sizes=True)"
      ]
    },
    {
      "cell_type": "code",
      "execution_count": null,
      "metadata": {
        "id": "jbQeC7J9gtpP"
      },
      "outputs": [],
      "source": [
        "# Tokenize the input data\n",
        "train_encodings = tokenizer(\n",
        "    train_data,\n",
        "    truncation=True,\n",
        "    padding=True,\n",
        "    max_length=32,\n",
        "    return_tensors='pt'    #return type is pytorch tensor\n",
        ")\n",
        "\n",
        "test_encodings = tokenizer(\n",
        "    test_data,\n",
        "    truncation=True,\n",
        "    padding=True,\n",
        "    max_length=32,\n",
        "    return_tensors='pt'\n",
        ")"
      ]
    },
    {
      "cell_type": "code",
      "execution_count": null,
      "metadata": {
        "id": "v9v4svwCgv_n"
      },
      "outputs": [],
      "source": [
        "# Convert labels to numeric values\n",
        "label_map = {intent: i for i, intent in enumerate(set(train_labels))}\n",
        "train_labels = [label_map[label] for label in train_labels]\n",
        "test_labels = [label_map[label] for label in test_labels]"
      ]
    },
    {
      "cell_type": "code",
      "execution_count": null,
      "metadata": {
        "id": "Xr73kL82gxn3"
      },
      "outputs": [],
      "source": [
        "# Create PyTorch datasets\n",
        "class IntentDataset(torch.utils.data.Dataset):\n",
        "    def __init__(self, encodings, labels = None, test = False):\n",
        "        self.encodings = encodings\n",
        "        self.labels = labels\n",
        "        self.test = test\n",
        "\n",
        "    def __getitem__(self, idx):\n",
        "        item = {key: val[idx] for key, val in self.encodings.items()}\n",
        "        if self.test == False: item['labels'] = torch.tensor(self.labels[idx])\n",
        "        return item\n",
        "\n",
        "    def __len__(self):\n",
        "        return len(self.encodings['input_ids'])\n",
        "\n",
        "train_dataset = IntentDataset(train_encodings, train_labels)\n",
        "test_dataset = IntentDataset(test_encodings, test_labels)"
      ]
    },
    {
      "cell_type": "code",
      "execution_count": null,
      "metadata": {
        "id": "7ciN_dotgzoi"
      },
      "outputs": [],
      "source": [
        "# Training arguments\n",
        "training_args = TrainingArguments(\n",
        "    output_dir='./intent_classification',\n",
        "    per_device_train_batch_size=32,\n",
        "    per_device_eval_batch_size=32,\n",
        "    evaluation_strategy=\"steps\", # use 'epoch' for evaluating every epoch\n",
        "    logging_steps=100,\n",
        "    eval_steps=100,\n",
        "    save_total_limit=5,\n",
        "    learning_rate=1e-4,\n",
        "    num_train_epochs=20,\n",
        "    logging_dir='./logs',\n",
        ")"
      ]
    },
    {
      "cell_type": "code",
      "execution_count": null,
      "metadata": {
        "colab": {
          "base_uri": "https://localhost:8080/",
          "height": 1000
        },
        "id": "4R5tA3mL7_jX",
        "outputId": "3ee14f01-18ea-473a-b168-66d6732c4804"
      },
      "outputs": [
        {
          "data": {
            "text/html": [
              "\n",
              "    <div>\n",
              "      \n",
              "      <progress value='3380' max='3380' style='width:300px; height:20px; vertical-align: middle;'></progress>\n",
              "      [3380/3380 12:23, Epoch 20/20]\n",
              "    </div>\n",
              "    <table border=\"1\" class=\"dataframe\">\n",
              "  <thead>\n",
              " <tr style=\"text-align: left;\">\n",
              "      <th>Step</th>\n",
              "      <th>Training Loss</th>\n",
              "      <th>Validation Loss</th>\n",
              "    </tr>\n",
              "  </thead>\n",
              "  <tbody>\n",
              "    <tr>\n",
              "      <td>100</td>\n",
              "      <td>3.102900</td>\n",
              "      <td>1.805471</td>\n",
              "    </tr>\n",
              "    <tr>\n",
              "      <td>200</td>\n",
              "      <td>0.275800</td>\n",
              "      <td>1.943988</td>\n",
              "    </tr>\n",
              "    <tr>\n",
              "      <td>300</td>\n",
              "      <td>0.182600</td>\n",
              "      <td>1.915223</td>\n",
              "    </tr>\n",
              "    <tr>\n",
              "      <td>400</td>\n",
              "      <td>0.106100</td>\n",
              "      <td>1.973182</td>\n",
              "    </tr>\n",
              "    <tr>\n",
              "      <td>500</td>\n",
              "      <td>0.102600</td>\n",
              "      <td>2.294327</td>\n",
              "    </tr>\n",
              "    <tr>\n",
              "      <td>600</td>\n",
              "      <td>0.103000</td>\n",
              "      <td>2.183093</td>\n",
              "    </tr>\n",
              "    <tr>\n",
              "      <td>700</td>\n",
              "      <td>0.075300</td>\n",
              "      <td>2.187203</td>\n",
              "    </tr>\n",
              "    <tr>\n",
              "      <td>800</td>\n",
              "      <td>0.058000</td>\n",
              "      <td>2.340619</td>\n",
              "    </tr>\n",
              "    <tr>\n",
              "      <td>900</td>\n",
              "      <td>0.047200</td>\n",
              "      <td>2.382209</td>\n",
              "    </tr>\n",
              "    <tr>\n",
              "      <td>1000</td>\n",
              "      <td>0.042100</td>\n",
              "      <td>2.369909</td>\n",
              "    </tr>\n",
              "    <tr>\n",
              "      <td>1100</td>\n",
              "      <td>0.039500</td>\n",
              "      <td>2.420365</td>\n",
              "    </tr>\n",
              "    <tr>\n",
              "      <td>1200</td>\n",
              "      <td>0.044400</td>\n",
              "      <td>2.363922</td>\n",
              "    </tr>\n",
              "    <tr>\n",
              "      <td>1300</td>\n",
              "      <td>0.041800</td>\n",
              "      <td>2.313251</td>\n",
              "    </tr>\n",
              "    <tr>\n",
              "      <td>1400</td>\n",
              "      <td>0.025300</td>\n",
              "      <td>2.348553</td>\n",
              "    </tr>\n",
              "    <tr>\n",
              "      <td>1500</td>\n",
              "      <td>0.027800</td>\n",
              "      <td>2.366718</td>\n",
              "    </tr>\n",
              "    <tr>\n",
              "      <td>1600</td>\n",
              "      <td>0.019800</td>\n",
              "      <td>2.413095</td>\n",
              "    </tr>\n",
              "    <tr>\n",
              "      <td>1700</td>\n",
              "      <td>0.018600</td>\n",
              "      <td>2.472349</td>\n",
              "    </tr>\n",
              "    <tr>\n",
              "      <td>1800</td>\n",
              "      <td>0.019100</td>\n",
              "      <td>2.463435</td>\n",
              "    </tr>\n",
              "    <tr>\n",
              "      <td>1900</td>\n",
              "      <td>0.010900</td>\n",
              "      <td>2.415378</td>\n",
              "    </tr>\n",
              "    <tr>\n",
              "      <td>2000</td>\n",
              "      <td>0.018600</td>\n",
              "      <td>2.433022</td>\n",
              "    </tr>\n",
              "    <tr>\n",
              "      <td>2100</td>\n",
              "      <td>0.007400</td>\n",
              "      <td>2.416676</td>\n",
              "    </tr>\n",
              "    <tr>\n",
              "      <td>2200</td>\n",
              "      <td>0.012200</td>\n",
              "      <td>2.421559</td>\n",
              "    </tr>\n",
              "    <tr>\n",
              "      <td>2300</td>\n",
              "      <td>0.007700</td>\n",
              "      <td>2.460894</td>\n",
              "    </tr>\n",
              "    <tr>\n",
              "      <td>2400</td>\n",
              "      <td>0.009500</td>\n",
              "      <td>2.482814</td>\n",
              "    </tr>\n",
              "    <tr>\n",
              "      <td>2500</td>\n",
              "      <td>0.002800</td>\n",
              "      <td>2.495147</td>\n",
              "    </tr>\n",
              "    <tr>\n",
              "      <td>2600</td>\n",
              "      <td>0.010400</td>\n",
              "      <td>2.466264</td>\n",
              "    </tr>\n",
              "    <tr>\n",
              "      <td>2700</td>\n",
              "      <td>0.004800</td>\n",
              "      <td>2.465253</td>\n",
              "    </tr>\n",
              "    <tr>\n",
              "      <td>2800</td>\n",
              "      <td>0.005200</td>\n",
              "      <td>2.456625</td>\n",
              "    </tr>\n",
              "    <tr>\n",
              "      <td>2900</td>\n",
              "      <td>0.006300</td>\n",
              "      <td>2.464305</td>\n",
              "    </tr>\n",
              "    <tr>\n",
              "      <td>3000</td>\n",
              "      <td>0.003900</td>\n",
              "      <td>2.465585</td>\n",
              "    </tr>\n",
              "    <tr>\n",
              "      <td>3100</td>\n",
              "      <td>0.004600</td>\n",
              "      <td>2.474720</td>\n",
              "    </tr>\n",
              "    <tr>\n",
              "      <td>3200</td>\n",
              "      <td>0.004600</td>\n",
              "      <td>2.483917</td>\n",
              "    </tr>\n",
              "    <tr>\n",
              "      <td>3300</td>\n",
              "      <td>0.004700</td>\n",
              "      <td>2.485743</td>\n",
              "    </tr>\n",
              "  </tbody>\n",
              "</table><p>"
            ],
            "text/plain": [
              "<IPython.core.display.HTML object>"
            ]
          },
          "metadata": {},
          "output_type": "display_data"
        },
        {
          "data": {
            "text/plain": [
              "TrainOutput(global_step=3380, training_loss=0.1315976498659546, metrics={'train_runtime': 743.58, 'train_samples_per_second': 145.243, 'train_steps_per_second': 4.546, 'total_flos': 1778359629312000.0, 'train_loss': 0.1315976498659546, 'epoch': 20.0})"
            ]
          },
          "execution_count": 80,
          "metadata": {},
          "output_type": "execute_result"
        }
      ],
      "source": [
        "# Create a trainer and train the model\n",
        "trainer = Trainer(\n",
        "    model=model,\n",
        "    args=training_args,\n",
        "    train_dataset=train_dataset,\n",
        "    eval_dataset=test_dataset,\n",
        ")\n",
        "\n",
        "trainer.train()"
      ]
    },
    {
      "cell_type": "code",
      "execution_count": null,
      "metadata": {
        "colab": {
          "base_uri": "https://localhost:8080/",
          "height": 52
        },
        "id": "zK98ya6ug3Z6",
        "outputId": "f589e4db-193d-4a26-e204-ab012d5557e3"
      },
      "outputs": [
        {
          "data": {
            "text/html": [],
            "text/plain": [
              "<IPython.core.display.HTML object>"
            ]
          },
          "metadata": {},
          "output_type": "display_data"
        },
        {
          "name": "stdout",
          "output_type": "stream",
          "text": [
            "Sample Text:   Nice to meet you!\n",
            "Predicted Intent: thank you\n"
          ]
        }
      ],
      "source": [
        "# Predict on the test set\n",
        "raw_predictions = trainer.predict(test_dataset)\n",
        "predicted_labels = np.argmax(raw_predictions.predictions, axis=1)\n",
        "\n",
        "# Convert labels back to original intents\n",
        "predicted_intents = [list(label_map.keys())[list(label_map.values()).index(label)] for label in predicted_labels]\n",
        "\n",
        "# Print one sample prediction\n",
        "sample_idx = 1\n",
        "sample_text = test_data[sample_idx]\n",
        "sample_intent = predicted_intents[sample_idx]\n",
        "\n",
        "print(f\"Sample Text: {sample_text}\")\n",
        "print(f\"Predicted Intent: {sample_intent}\")"
      ]
    },
    {
      "cell_type": "code",
      "execution_count": null,
      "metadata": {
        "colab": {
          "base_uri": "https://localhost:8080/",
          "height": 17
        },
        "id": "p34dQ_pIN82v",
        "outputId": "34c69ebb-c7d3-4872-e8e8-4b401a20fd2a"
      },
      "outputs": [
        {
          "data": {
            "text/html": [],
            "text/plain": [
              "<IPython.core.display.HTML object>"
            ]
          },
          "metadata": {},
          "output_type": "display_data"
        }
      ],
      "source": [
        "with open('massive_test.data', 'r') as solution_file:\n",
        "    final = [json.loads(line) for line in solution_file]\n",
        "\n",
        "\n",
        "# Split data into train and test sets (2:1) stratified by intent\n",
        "final_indoml_ids = [item['indoml_id'] for item in final]\n",
        "final_utt = [item['utt'] for item in final]\n",
        "\n",
        "final_encodings = tokenizer(\n",
        "    final_utt,\n",
        "    truncation=True,\n",
        "    padding=True,\n",
        "    max_length=32,\n",
        "    return_tensors='pt'    #return type is pytorch tensor\n",
        ")\n",
        "\n",
        "final_dataset = IntentDataset(final_encodings, test = True)\n",
        "\n",
        "final_raw_predictions = trainer.predict(final_dataset)\n",
        "\n",
        "final_predicted_labels = np.argmax(final_raw_predictions.predictions, axis=1)\n",
        "\n",
        "# Convert labels back to original intents\n",
        "final_predicted_intents = [list(label_map.keys())[list(label_map.values()).index(label)] for label in final_predicted_labels]\n",
        "\n",
        "# Print one sample prediction"
      ]
    },
    {
      "cell_type": "code",
      "execution_count": null,
      "metadata": {
        "id": "YC2vyZjMb8D5"
      },
      "outputs": [],
      "source": []
    },
    {
      "cell_type": "code",
      "execution_count": null,
      "metadata": {
        "colab": {
          "base_uri": "https://localhost:8080/",
          "height": 17
        },
        "id": "HidKqo0ct4l-",
        "outputId": "0013bbd4-2748-4bdc-961e-2e01ff7582d4"
      },
      "outputs": [
        {
          "data": {
            "text/html": [],
            "text/plain": [
              "<IPython.core.display.HTML object>"
            ]
          },
          "metadata": {},
          "output_type": "display_data"
        }
      ],
      "source": [
        "'''with open('surprise.data', 'r') as solution_file:\n",
        "    final = [json.loads(line) for line in solution_file]\n",
        "\n",
        "\n",
        "# Split data into train and test sets (2:1) stratified by intent\n",
        "final_indoml_ids = [item['indoml_id'] for item in final]\n",
        "final_utt = [item['utt'] for item in final]\n",
        "\n",
        "final_encodings = tokenizer(\n",
        "    final_utt,\n",
        "    truncation=True,\n",
        "    padding=True,\n",
        "    max_length=32,\n",
        "    return_tensors='pt'    #return type is pytorch tensor\n",
        ")\n",
        "\n",
        "final_dataset = IntentDataset(final_encodings, test = True)\n",
        "\n",
        "final_raw_predictions = trainer.predict(final_dataset)\n",
        "\n",
        "final_predicted_labels = np.argmax(final_raw_predictions.predictions, axis=1)\n",
        "\n",
        "# Convert labels back to original intents\n",
        "final_predicted_intents = [list(label_map.keys())[list(label_map.values()).index(label)] for label in final_predicted_labels]\n",
        "\n",
        "# Print one sample prediction'''"
      ]
    },
    {
      "cell_type": "code",
      "execution_count": null,
      "metadata": {
        "id": "AIXd37LDusGS"
      },
      "outputs": [],
      "source": [
        "final_predicted_intents"
      ]
    },
    {
      "cell_type": "code",
      "execution_count": null,
      "metadata": {
        "id": "97RQpKTwu2cL"
      },
      "outputs": [],
      "source": [
        "'''with open('surprise.solution', 'r') as solution:\n",
        "    soln = [json.loads(line) for line in solution]'''"
      ]
    },
    {
      "cell_type": "code",
      "execution_count": null,
      "metadata": {
        "id": "SWwZdwJSvL3U"
      },
      "outputs": [],
      "source": [
        "'''solnx=[]\n",
        "for i in soln:\n",
        "  solnx.append(i['intent'])'''"
      ]
    },
    {
      "cell_type": "code",
      "execution_count": null,
      "metadata": {
        "id": "mfvPdpB5wmDn"
      },
      "outputs": [],
      "source": [
        "'''final_predicted_intents'''"
      ]
    },
    {
      "cell_type": "code",
      "execution_count": null,
      "metadata": {
        "colab": {
          "base_uri": "https://localhost:8080/"
        },
        "id": "kavO6-C8x_ug",
        "outputId": "a08f627b-fda8-46ee-e0e7-392428279924"
      },
      "outputs": [
        {
          "data": {
            "text/plain": [
              "(150, 150)"
            ]
          },
          "execution_count": 38,
          "metadata": {},
          "output_type": "execute_result"
        }
      ],
      "source": [
        "'''len(set(final_predicted_intents)),len(set(solnx))'''"
      ]
    },
    {
      "cell_type": "code",
      "execution_count": null,
      "metadata": {
        "id": "_3yhXM2lyjKe"
      },
      "outputs": [],
      "source": [
        "'''for i in range(len(final_predicted_intents)):\n",
        "  final_predicted_intents[i]=final_predicted_intents[i].strip()'''"
      ]
    },
    {
      "cell_type": "code",
      "execution_count": null,
      "metadata": {
        "id": "yi5rIVo2xyqa"
      },
      "outputs": [],
      "source": [
        "'''label_map = {intent: i for i, intent in enumerate(set(solnx))}'''"
      ]
    },
    {
      "cell_type": "code",
      "execution_count": null,
      "metadata": {
        "id": "U_8Wjz0-xCGC"
      },
      "outputs": [],
      "source": [
        "'''final_predicted_intents = [label_map[label] for label in final_predicted_intents]'''"
      ]
    },
    {
      "cell_type": "code",
      "execution_count": null,
      "metadata": {
        "id": "01K6xX4exDFp"
      },
      "outputs": [],
      "source": [
        "'''solnx = [label_map[label] for label in solnx]'''"
      ]
    },
    {
      "cell_type": "code",
      "execution_count": null,
      "metadata": {
        "id": "wDdguUiYxMtH"
      },
      "outputs": [],
      "source": [
        "'''final_predicted_intents'''"
      ]
    },
    {
      "cell_type": "code",
      "execution_count": null,
      "metadata": {
        "id": "d6WxcS8Uy1--"
      },
      "outputs": [],
      "source": [
        "'''solnx'''"
      ]
    },
    {
      "cell_type": "code",
      "execution_count": null,
      "metadata": {
        "id": "yHGOw_eky3Af"
      },
      "outputs": [],
      "source": [
        "'''from sklearn.metrics import accuracy_score, precision_score, f1_score'''"
      ]
    },
    {
      "cell_type": "code",
      "execution_count": null,
      "metadata": {
        "colab": {
          "base_uri": "https://localhost:8080/"
        },
        "id": "Mrx81I_by73B",
        "outputId": "fde7e449-4e8f-4a6c-b471-7404645c0363"
      },
      "outputs": [
        {
          "name": "stdout",
          "output_type": "stream",
          "text": [
            "accuracy  0.8371886120996441\n",
            "precision 0.8405116878019865\n",
            "f1_score  0.834337924851306\n"
          ]
        }
      ],
      "source": [
        "'''accuracy = accuracy_score(solnx, final_predicted_intents)\n",
        "print('accuracy ',accuracy)\n",
        "\n",
        "precision = precision_score(solnx, final_predicted_intents,average='weighted')\n",
        "print('precision',precision)\n",
        "\n",
        "f1 = f1_score(solnx, final_predicted_intents,average='weighted')\n",
        "print('f1_score ',f1)\n",
        "'''"
      ]
    },
    {
      "cell_type": "code",
      "execution_count": null,
      "metadata": {
        "id": "dhs85sjC2qbB"
      },
      "outputs": [],
      "source": [
        "trainer.save_model(\"trained_model\")"
      ]
    },
    {
      "cell_type": "code",
      "execution_count": null,
      "metadata": {
        "id": "na9iiUW7y3Cu"
      },
      "outputs": [],
      "source": []
    },
    {
      "cell_type": "code",
      "execution_count": null,
      "metadata": {
        "id": "P7OtTwOQIo_5"
      },
      "outputs": [],
      "source": [
        "import torch\n",
        "from transformers import BertTokenizer, BertModel\n",
        "from sklearn.metrics.pairwise import cosine_similarity\n",
        "from sklearn.metrics import accuracy_score\n",
        "from concurrent.futures import ThreadPoolExecutor\n",
        "\n",
        "# Function to get BERT embeddings for a given text\n",
        "def get_bert_embedding(text, model, tokenizer):\n",
        "    inputs = tokenizer(text, return_tensors=\"pt\", truncation=True, padding=True)\n",
        "    with torch.no_grad():\n",
        "        outputs = model(**inputs)\n",
        "    return outputs.last_hidden_state.mean(dim=1).squeeze().numpy()\n",
        "\n",
        "# Function to calculate cosine similarity\n",
        "def calculate_similarity(embedding1, embedding2):\n",
        "    return cosine_similarity([embedding1], [embedding2])[0][0]\n",
        "\n",
        "# Function to predict labels in parallel\n",
        "def predict_labels_parallel(test_embedding, train_label_embeddings):\n",
        "    similarities = [calculate_similarity(test_embedding, label_embedding) for label_embedding in train_label_embeddings]\n",
        "    predicted_label_index = similarities.index(max(similarities))\n",
        "    return train_labels[predicted_label_index]\n",
        "\n",
        "# Load pre-trained BERT model and tokenizer\n",
        "model_name = 'bert-base-uncased'\n",
        "tokenizer = BertTokenizer.from_pretrained(model_name)\n",
        "model = BertModel.from_pretrained(model_name)\n",
        "\n",
        "# Training data\n",
        "train_input_texts = [\"Train input text 1\", \"Train input text 2\", ...]\n",
        "train_labels = [\"Train Label 1\", \"Train Label 2\", ...]\n",
        "\n",
        "# Test data\n",
        "test_input_texts = [\"Test input text 1\", \"Test input text 2\", ...]\n",
        "test_labels = [\"Test Label 1\", \"Test Label 2\", ...]\n",
        "\n",
        "# Get embeddings for training data in parallel\n",
        "with ThreadPoolExecutor() as executor:\n",
        "    train_input_embeddings = list(executor.map(lambda text: get_bert_embedding(text, model, tokenizer), train_input_texts))\n",
        "    train_label_embeddings = list(executor.map(lambda label: get_bert_embedding(label, model, tokenizer), train_labels))\n",
        "\n",
        "# Get embeddings for test data in parallel\n",
        "with ThreadPoolExecutor() as executor:\n",
        "    test_input_embeddings = list(executor.map(lambda text: get_bert_embedding(text, model, tokenizer), test_input_texts))\n",
        "\n",
        "# Predict labels for test data in parallel\n",
        "with ThreadPoolExecutor() as executor:\n",
        "    predicted_labels = list(executor.map(lambda test_embedding: predict_labels_parallel(test_embedding, train_label_embeddings), test_input_embeddings))\n",
        "\n",
        "# Calculate accuracy\n",
        "accuracy = accuracy_score(test_labels, predicted_labels)\n",
        "print(\"Accuracy on Test Data:\", accuracy)\n"
      ]
    },
    {
      "cell_type": "code",
      "execution_count": null,
      "metadata": {
        "id": "uONkFzkoQkPN"
      },
      "outputs": [],
      "source": []
    }
  ],
  "metadata": {
    "colab": {
      "provenance": []
    },
    "kernelspec": {
      "display_name": "Python 3",
      "name": "python3"
    },
    "language_info": {
      "name": "python"
    }
  },
  "nbformat": 4,
  "nbformat_minor": 0
}